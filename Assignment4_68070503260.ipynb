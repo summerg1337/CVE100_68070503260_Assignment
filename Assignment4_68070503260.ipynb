{
 "cells": [
  {
   "cell_type": "code",
   "execution_count": 1,
   "id": "8c5cc85f",
   "metadata": {},
   "outputs": [
    {
     "name": "stdout",
     "output_type": "stream",
     "text": [
      "8989 is odd\n"
     ]
    }
   ],
   "source": [
    "#Even and Odd\n",
    "#iterate for loop from number 1 to n:\n",
    "#if the number is even, print \"[number] is even\"\n",
    "#otherwise, print \"[number] is odd:\n",
    "\n",
    "#if n = 5 ==> expected output\n",
    "#0 is even\n",
    "#1 is odd\n",
    "#2 is even\n",
    "#3 is odd\n",
    "#4 is even\n",
    "\n",
    "num= int(input(\"Emter number: \"))\n",
    "if (num % 2) == 0:\n",
    "    print (\"{0} is even\".format(num))\n",
    "else:\n",
    "    print (\"{0} is odd\".format(num))"
   ]
  },
  {
   "cell_type": "code",
   "execution_count": 22,
   "id": "522a5791",
   "metadata": {},
   "outputs": [
    {
     "name": "stdout",
     "output_type": "stream",
     "text": [
      "The resut is large\n",
      "The resut is large\n",
      "The resut is large\n",
      "The resut is large\n",
      "The resut is large\n",
      "The resut is large\n",
      "The resut is large\n",
      "The resut is large\n",
      "The resut is large\n",
      "The resut is large\n"
     ]
    }
   ],
   "source": [
    "#Define\n",
    "#- define number n(n value should be between)\n",
    "#- Use a loop from 1 to 10 (the value of looping variable is 1 to 10)\n",
    "#- if the result of quotient (number/i) is greater than 5 => print (\"The result is large\")\n",
    "#- if the result of quotient (number/i) is exactly equal to 6 ==> skip loop with continue\n",
    "#- otherwise, print the actual quotient ==> print (\"quotient=\", quotient)\n",
    "\n",
    "n=55\n",
    "\n",
    "for i in range(1, 11):\n",
    "    quotient = n / float(i)\n",
    "\n",
    "    if quotient > 5:\n",
    "        print(\"The resut is large\")\n",
    "    elif abs (quotient - 6.0) < 0.0001:\n",
    "        print(\"Skipping loop with continue...\")\n",
    "        continue \n",
    "\n",
    "    else:\n",
    "        print(\"quotient =\", quotient)\n",
    "\n"
   ]
  },
  {
   "cell_type": "code",
   "execution_count": 5,
   "id": "1201375b",
   "metadata": {},
   "outputs": [
    {
     "name": "stdout",
     "output_type": "stream",
     "text": [
      "User not found\n"
     ]
    }
   ],
   "source": [
    "credentials = {'user1': 'abc123', 'admin': 'adminpass', 'guest': 'guest123'}\n",
    "username = input(\"Enter username\")\n",
    "password = input(\"Enter password\")\n",
    "if username in credentials:\n",
    "    if credentials [username] == password:\n",
    "        print (\"Login successful\")\n",
    "    else:\n",
    "        print (\"Incorrect password\")\n",
    "else:\n",
    "    print (\"User not found\")"
   ]
  },
  {
   "cell_type": "code",
   "execution_count": 6,
   "id": "2decfdab",
   "metadata": {},
   "outputs": [
    {
     "name": "stdout",
     "output_type": "stream",
     "text": [
      "\n",
      "* \n",
      "* * \n",
      "* * * \n",
      "* * * * \n",
      "* * * * * \n"
     ]
    }
   ],
   "source": [
    "stars = 5\n",
    "row = 5\n",
    "for i in range (row+1):\n",
    "    for j in range(i):\n",
    "        print(\"*\", end=\" \")\n",
    "    print()"
   ]
  },
  {
   "cell_type": "code",
   "execution_count": 20,
   "id": "ed231b23",
   "metadata": {},
   "outputs": [
    {
     "name": "stdout",
     "output_type": "stream",
     "text": [
      "Current total_bill:892819.00\n",
      "limit reached. You cannot buy anymore\n",
      "Final total_bill:892819.00\n"
     ]
    }
   ],
   "source": [
    "#Shopping Cart checkout\n",
    "\n",
    "#Use intial variable total_bill=0\n",
    "#Ask user to add price and the price to total_bill.\n",
    "#If total_bill>=1000, print (\"limit reached. You cannot buy anymore and break the loop\")\n",
    "#Otherwise, ask user to add price\n",
    "\n",
    "total_bill = 0\n",
    "while True:\n",
    "        \n",
    "        price = float(input(\"Enter price of the item\"))\n",
    "        total_bill += price\n",
    "        print(f\"Current total_bill:{total_bill:.2f}\")\n",
    "        if total_bill >= 1000:\n",
    "            print (\"limit reached. You cannot buy anymore\")\n",
    "            break\n",
    "        else:\n",
    "            print(\"Invalid input\")\n",
    "        if input(\"Enter 'done' to finish: \").lower() == 'done':\n",
    "          break\n",
    "print(f\"Final total_bill:{total_bill:.2f}\")"
   ]
  }
 ],
 "metadata": {
  "kernelspec": {
   "display_name": "Python 3",
   "language": "python",
   "name": "python3"
  },
  "language_info": {
   "codemirror_mode": {
    "name": "ipython",
    "version": 3
   },
   "file_extension": ".py",
   "mimetype": "text/x-python",
   "name": "python",
   "nbconvert_exporter": "python",
   "pygments_lexer": "ipython3",
   "version": "3.13.7"
  }
 },
 "nbformat": 4,
 "nbformat_minor": 5
}
